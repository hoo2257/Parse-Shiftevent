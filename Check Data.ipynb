{
 "cells": [
  {
   "cell_type": "code",
   "execution_count": 3,
   "metadata": {},
   "outputs": [
    {
     "ename": "ModuleNotFoundError",
     "evalue": "No module named 'ParseShiftData_v0'",
     "output_type": "error",
     "traceback": [
      "\u001b[1;31m---------------------------------------------------------------------------\u001b[0m",
      "\u001b[1;31mModuleNotFoundError\u001b[0m                       Traceback (most recent call last)",
      "\u001b[1;32m<ipython-input-3-10fde72c6a48>\u001b[0m in \u001b[0;36m<module>\u001b[1;34m\u001b[0m\n\u001b[0;32m      5\u001b[0m \u001b[1;32mimport\u001b[0m \u001b[0mnumpy\u001b[0m \u001b[1;32mas\u001b[0m \u001b[0mnp\u001b[0m\u001b[1;33m\u001b[0m\u001b[1;33m\u001b[0m\u001b[0m\n\u001b[0;32m      6\u001b[0m \u001b[1;32mimport\u001b[0m \u001b[0mtime\u001b[0m\u001b[1;33m\u001b[0m\u001b[1;33m\u001b[0m\u001b[0m\n\u001b[1;32m----> 7\u001b[1;33m \u001b[1;32mfrom\u001b[0m \u001b[0mParseShiftData_v0\u001b[0m \u001b[1;32mimport\u001b[0m \u001b[1;33m*\u001b[0m\u001b[1;33m\u001b[0m\u001b[1;33m\u001b[0m\u001b[0m\n\u001b[0m\u001b[0;32m      8\u001b[0m \u001b[1;32mimport\u001b[0m \u001b[0msys\u001b[0m\u001b[1;33m\u001b[0m\u001b[1;33m\u001b[0m\u001b[0m\n\u001b[0;32m      9\u001b[0m \u001b[1;32mimport\u001b[0m \u001b[0mglob\u001b[0m\u001b[1;33m\u001b[0m\u001b[1;33m\u001b[0m\u001b[0m\n",
      "\u001b[1;31mModuleNotFoundError\u001b[0m: No module named 'ParseShiftData_v0'"
     ]
    }
   ],
   "source": [
    "import asammdf\n",
    "from asammdf import MDF\n",
    "import pandas as pd\n",
    "import os\n",
    "import numpy as np\n",
    "import time\n",
    "from ParseShiftData_v0 import *\n",
    "import sys\n",
    "import glob\n",
    "import matplotlib.pyplot as plt"
   ]
  },
  {
   "cell_type": "code",
   "execution_count": 3,
   "metadata": {},
   "outputs": [],
   "source": [
    "def get_signal_name(df):\n",
    "    col_names = df.columns\n",
    "    can_dict = {}\n",
    "    \n",
    "    for name in col_names:\n",
    "        lower_name = name.lower()\n",
    "        \n",
    "        if \"engspdval\" in lower_name:\n",
    "            can_dict[\"engine_rpm\"] = name\n",
    "            \n",
    "        elif \"accelpdl\" in lower_name:\n",
    "            can_dict[\"aps\"] = name\n",
    "            \n",
    "        elif \"whl\" in lower_name:\n",
    "            can_dict[\"wheel_spd\"] = name\n",
    "            \n",
    "        elif \"longaccelval\" in lower_name:\n",
    "            can_dict[\"accel\"] = name\n",
    "            \n",
    "        elif \"NTU\" in name:\n",
    "            can_dict[\"motor_rpm\"] = name\n",
    "            \n",
    "        elif \"syncfilt\" in lower_name:\n",
    "            can_dict[\"input_variation\"] = name\n",
    "            \n",
    "        elif \"nab\" in lower_name:\n",
    "            can_dict[\"ouput_shaft\"] = name\n",
    "            \n",
    "        elif \"ShftTrgtClsSta\".lower() in lower_name:\n",
    "            can_dict[\"shift_tg_cls\"] = name\n",
    "            \n",
    "        elif \"currgear\" in lower_name:\n",
    "            can_dict[\"cur_gear\"] = name\n",
    "            \n",
    "        elif \"trgtgear\" in lower_name:\n",
    "            can_dict[\"tg_gear\"] = name\n",
    "            \n",
    "        elif \"esa\" in lower_name:\n",
    "            can_dict[\"shift_phase\"] = name\n",
    "        \n",
    "    return can_dict            "
   ]
  },
  {
   "cell_type": "code",
   "execution_count": null,
   "metadata": {},
   "outputs": [],
   "source": [
    "def dropnan(nan_list):\n",
    "    \n",
    "    cleanedlist = [x for x in nan_list if str(x) != \"nan\"]\n",
    "    \n",
    "    return cleanedlist"
   ]
  },
  {
   "cell_type": "code",
   "execution_count": 10,
   "metadata": {},
   "outputs": [],
   "source": [
    "def parse_data(test_case):\n",
    "    normal_path = \"savefig/Normal\"\n",
    "    anomaly_path = \"savefig/Anomaly\"\n",
    "\n",
    "    for i, event in enumerate(test_case):\n",
    "        \n",
    "        df_event = pd.read_pickle(event)\n",
    "        signal_dict = get_signal_name(df_event)\n",
    "        max_tm_in = np.max(df_event[signal_dict[\"input_variation\"]])\n",
    "\n",
    "\n",
    "        plt.plot(df_event[signal_dict[\"input_variation\"]], linewidth=5, color='white')\n",
    "        plt.plot(df_event[signal_dict[\"engine_rpm\"]], linewidth=5, color='white')    \n",
    "        plt.plot(df_event[signal_dict[\"motor_rpm\"]], linewidth=5, color='white')    \n",
    "#         plt.axis(\"off\")\n",
    "        plt.ylim(-5000,12000)\n",
    "\n",
    "        if \"악의\" in event:\n",
    "            plt.savefig(\"{}/anomaly_{}.png\".format(anomaly_path, i), bbox_inches=\"tight\")\n",
    "            plt.close()\n",
    "        else:\n",
    "            plt.savefig(\"{}/normal_{}.png\".format(normal_path, i), bbox_inches=\"tight\")\n",
    "            plt.close()"
   ]
  },
  {
   "cell_type": "code",
   "execution_count": 11,
   "metadata": {},
   "outputs": [],
   "source": [
    "samples = glob.glob(\"Sorted/*/*\")\n",
    "\n",
    "plt.style.use('dark_background')\n",
    "\n",
    "parse_data(samples)"
   ]
  },
  {
   "cell_type": "code",
   "execution_count": 4,
   "metadata": {},
   "outputs": [],
   "source": [
    "import pandas as pd"
   ]
  },
  {
   "cell_type": "code",
   "execution_count": 5,
   "metadata": {},
   "outputs": [],
   "source": [
    "import glob"
   ]
  },
  {
   "cell_type": "code",
   "execution_count": 10,
   "metadata": {},
   "outputs": [],
   "source": [
    "a = glob.glob(\"Sorted/*/*\")[0]"
   ]
  },
  {
   "cell_type": "code",
   "execution_count": 11,
   "metadata": {},
   "outputs": [
    {
     "data": {
      "text/plain": [
       "'Sorted\\\\2019-07-18 03_20_21 PM_NX4_HEV_Proto#228_토잉_1일차_RL수정하고_강릉TG시작_종료\\\\0.pkl'"
      ]
     },
     "execution_count": 11,
     "metadata": {},
     "output_type": "execute_result"
    }
   ],
   "source": [
    "a"
   ]
  },
  {
   "cell_type": "code",
   "execution_count": 13,
   "metadata": {},
   "outputs": [],
   "source": [
    "t = pd.read_pickle(a)"
   ]
  },
  {
   "cell_type": "code",
   "execution_count": 14,
   "metadata": {},
   "outputs": [],
   "source": [
    "import matplotlib.pyplot as plt"
   ]
  },
  {
   "cell_type": "code",
   "execution_count": 16,
   "metadata": {},
   "outputs": [
    {
     "data": {
      "text/plain": [
       "'HEV_EngSpdVal\\\\CAN-Monitoring:1'"
      ]
     },
     "execution_count": 16,
     "metadata": {},
     "output_type": "execute_result"
    }
   ],
   "source": [
    "t.columns[1]"
   ]
  },
  {
   "cell_type": "code",
   "execution_count": 18,
   "metadata": {},
   "outputs": [],
   "source": [
    "t.to_csv(\"t.csv\")"
   ]
  },
  {
   "cell_type": "code",
   "execution_count": null,
   "metadata": {},
   "outputs": [],
   "source": []
  }
 ],
 "metadata": {
  "kernelspec": {
   "display_name": "virtualdriver",
   "language": "python",
   "name": "virtualdriver"
  },
  "language_info": {
   "codemirror_mode": {
    "name": "ipython",
    "version": 3
   },
   "file_extension": ".py",
   "mimetype": "text/x-python",
   "name": "python",
   "nbconvert_exporter": "python",
   "pygments_lexer": "ipython3",
   "version": "3.7.7"
  }
 },
 "nbformat": 4,
 "nbformat_minor": 4
}
