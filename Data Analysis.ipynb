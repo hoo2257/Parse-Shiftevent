{
 "cells": [
  {
   "cell_type": "code",
   "execution_count": 17,
   "metadata": {},
   "outputs": [],
   "source": [
    "import asammdf\n",
    "from asammdf import MDF\n",
    "import pandas as pd\n",
    "import os\n",
    "import numpy as np\n",
    "import time\n",
    "from ParseShiftData_v0 import *\n",
    "import sys\n",
    "import glob"
   ]
  },
  {
   "cell_type": "code",
   "execution_count": 18,
   "metadata": {},
   "outputs": [],
   "source": [
    "APS = \"HEV_AccelPdlVal\"\n",
    "eng_rpm = \"HEV_EngSpdVal\"\n",
    "BPS = \"IEB_StrkDpthPcVal\"\n",
    "tr_class = \"LHTCU_ShftTrgtClsSta\"\n",
    "cur_gear = \"HTCU_CurrGearSta\"\n",
    "target_gear = \"HTCU_TrgtGearSta\"\n",
    "wheel_spd = \"WHL_SpdFLVal\"\n",
    "accel = \"YRS_LongAccelVal\"\n",
    "mot_spd = \"NTU\"  # tm_in_spd 와 같음\n",
    "tm_out_spd = \"NAB\"\n",
    "tm_delta_acc = \"ntug_SyncFilt\"\n",
    "shift_phase = \"esa_Phase\"\n",
    "\n",
    "signals = (APS, eng_rpm, BPS, tr_class, cur_gear, target_gear,\n",
    "           wheel_spd, accel, mot_spd, tm_out_spd, tm_delta_acc, shift_phase)"
   ]
  },
  {
   "cell_type": "code",
   "execution_count": 22,
   "metadata": {},
   "outputs": [],
   "source": [
    "dat_file = glob.glob(\"MDFs/*.dat*\")"
   ]
  },
  {
   "cell_type": "code",
   "execution_count": 25,
   "metadata": {},
   "outputs": [
    {
     "data": {
      "text/plain": [
       "['MDFs\\\\2021-07-13 10_53_15_NQ5_PHEV_P1_#011_12변속데이터.dat',\n",
       " 'MDFs\\\\2021-07-14 13_41_29_NQ5_HEV_P1#522_sq_AI원리시험_01(양산수준).dat',\n",
       " 'MDFs\\\\2021-07-14 14_47_24_NQ5_HEV_P1#522_sq_AI원리시험_03(악의모드).dat']"
      ]
     },
     "execution_count": 25,
     "metadata": {},
     "output_type": "execute_result"
    }
   ],
   "source": [
    "dat_file"
   ]
  },
  {
   "cell_type": "code",
   "execution_count": 23,
   "metadata": {},
   "outputs": [],
   "source": [
    "file_name, file_extension = os.path.splitext(dat_file[0])"
   ]
  },
  {
   "cell_type": "code",
   "execution_count": 24,
   "metadata": {},
   "outputs": [],
   "source": [
    "input_mdf = MDF(dat_file[0])"
   ]
  },
  {
   "cell_type": "code",
   "execution_count": 13,
   "metadata": {},
   "outputs": [],
   "source": [
    "signal_loc = get_group_idx(signals, input_mdf)"
   ]
  },
  {
   "cell_type": "code",
   "execution_count": 26,
   "metadata": {},
   "outputs": [
    {
     "data": {
      "text/plain": [
       "199"
      ]
     },
     "execution_count": 26,
     "metadata": {},
     "output_type": "execute_result"
    }
   ],
   "source": [
    "signal_loc[\"NTU\"]"
   ]
  },
  {
   "cell_type": "code",
   "execution_count": 21,
   "metadata": {},
   "outputs": [],
   "source": [
    "full_log, shift_time = get_data(signals, signal_loc, file_extension, input_mdf, tr_class, cur_gear, target_gear)"
   ]
  },
  {
   "cell_type": "code",
   "execution_count": 24,
   "metadata": {},
   "outputs": [],
   "source": [
    "full_log.to_csv(\"log.csv\")"
   ]
  },
  {
   "cell_type": "code",
   "execution_count": 23,
   "metadata": {},
   "outputs": [
    {
     "data": {
      "text/plain": [
       "[[17.6607, 18.7004],\n",
       " [43.6011, 45.3009],\n",
       " [74.3419, 75.9614],\n",
       " [286.2554, 287.8552],\n",
       " [379.5671, 381.1768],\n",
       " [397.1476, 398.677],\n",
       " [411.0478, 412.6073],\n",
       " [421.708, 423.2175],\n",
       " [434.1082, 435.6479],\n",
       " [445.8083, 447.3379],\n",
       " [456.9385, 458.5283],\n",
       " [468.8487, 470.4483],\n",
       " [481.8889, 483.4385],\n",
       " [494.5092, 496.0288],\n",
       " [506.7493, 508.2792],\n",
       " [518.2896, 519.7592],\n",
       " [533.7898, 535.2795],\n",
       " [546.4701, 548.0196],\n",
       " [559.1502, 560.6599],\n",
       " [572.1305, 573.7401],\n",
       " [584.2107, 585.8102],\n",
       " [597.471, 599.0004],\n",
       " [610.831, 612.3508],\n",
       " [623.6913, 625.281],\n",
       " [637.1516, 638.6311],\n",
       " [664.2318, 665.7415],\n",
       " [676.9322, 678.5417],\n",
       " [690.5722, 692.092],\n",
       " [703.5124, 705.1221],\n",
       " [716.4528, 718.0724],\n",
       " [748.8332, 750.4629],\n",
       " [763.9335, 765.4632],\n",
       " [777.8937, 779.4235],\n",
       " [791.7139, 793.2537],\n",
       " [807.7343, 809.264],\n",
       " [822.6546, 824.1943],\n",
       " [837.7148, 839.2545],\n",
       " [853.155, 854.6947],\n",
       " [867.2751, 868.8047],\n",
       " [882.4955, 884.025],\n",
       " [895.1558, 896.7353],\n",
       " [908.7759, 910.2955],\n",
       " [922.9962, 924.5357],\n",
       " [957.6966, 959.2462],\n",
       " [972.0769, 973.6065],\n",
       " [984.5971, 986.1167],\n",
       " [997.5775, 999.1169],\n",
       " [1009.6776, 1011.2071],\n",
       " [1022.8977, 1024.4074],\n",
       " [1036.318, 1037.8578],\n",
       " [1049.4183, 1050.9379],\n",
       " [1066.7985, 1068.3281],\n",
       " [1082.2387, 1083.7585],\n",
       " [1096.129, 1097.7086],\n",
       " [1109.3592, 1110.869],\n",
       " [1120.7595, 1122.299],\n",
       " [1133.2598, 1134.7893],\n",
       " [1145.6197, 1147.1294],\n",
       " [1157.9201, 1159.4696],\n",
       " [1170.6602, 1172.1998],\n",
       " [1184.2203, 1185.7601],\n",
       " [1195.5806, 1197.1201],\n",
       " [1208.3807, 1209.9204],\n",
       " [1220.1609, 1221.7005],\n",
       " [1232.3411, 1233.8607],\n",
       " [1260.3814, 1261.9112],\n",
       " [1274.5017, 1276.0313],\n",
       " [1288.1619, 1289.6515],\n",
       " [1300.682, 1302.1918],\n",
       " [1312.9423, 1314.4621],\n",
       " [1326.3425, 1327.8622],\n",
       " [1340.5827, 1342.1025],\n",
       " [1354.2433, 1355.7526],\n",
       " [1368.1431, 1369.6527],\n",
       " [1380.3632, 1381.8731],\n",
       " [1395.1036, 1396.6133],\n",
       " [1409.4037, 1410.9334],\n",
       " [1423.4039, 1424.9036],\n",
       " [1437.0841, 1438.6138],\n",
       " [1451.4643, 1452.974],\n",
       " [1464.7245, 1466.2442],\n",
       " [1479.3847, 1480.9045],\n",
       " [1493.385, 1494.9047],\n",
       " [1506.3253, 1507.8449],\n",
       " [1519.6054, 1521.1251],\n",
       " [1534.4056, 1535.9253],\n",
       " [1558.486, 1560.0157],\n",
       " [1572.0262, 1573.546],\n",
       " [1585.9065, 1587.4262],\n",
       " [1601.2267, 1602.7365],\n",
       " [1614.3469, 1615.8466],\n",
       " [1628.7871, 1630.2967],\n",
       " [1645.0275, 1646.537],\n",
       " [1659.2876, 1660.8172],\n",
       " [1674.6477, 1676.1675],\n",
       " [1688.4881, 1690.0079],\n",
       " [1702.7084, 1704.228],\n",
       " [1715.2685, 1716.7782],\n",
       " [1726.3886, 1727.8984],\n",
       " [1739.6289, 1741.1286],\n",
       " [1753.629, 1755.1089],\n",
       " [1765.4693, 1766.9791],\n",
       " [1778.2695, 1779.8291],\n",
       " [1794.9498, 1795.4993],\n",
       " [1804.9099, 1806.4396],\n",
       " [1819.0101, 1820.5698],\n",
       " [1831.5102, 1833.0299],\n",
       " [1845.6105, 1847.1301],\n",
       " [2029.0532, 2030.5629],\n",
       " [2042.8534, 2044.373],\n",
       " [2056.2536, 2057.7233],\n",
       " [2067.3938, 2068.8134],\n",
       " [2078.0339, 2079.5034],\n",
       " [2089.7738, 2091.2037],\n",
       " [2104.8343, 2106.4838],\n",
       " [2119.3743, 2120.964],\n",
       " [2132.4645, 2134.0042],\n",
       " [2153.5748, 2155.1245],\n",
       " [2167.035, 2168.6047],\n",
       " [2180.6154, 2182.2449],\n",
       " [2191.9353, 2193.4551],\n",
       " [2205.4356, 2207.0153],\n",
       " [2225.8159, 2227.4257],\n",
       " [2246.4562, 2248.0859],\n",
       " [2264.8965, 2264.9761],\n",
       " [2274.6167, 2276.1763],\n",
       " [2285.9769, 2287.6365],\n",
       " [2300.5371, 2302.1767],\n",
       " [2325.6975, 2327.2272],\n",
       " [2339.8977, 2341.5173],\n",
       " [2511.7402, 2513.3298],\n",
       " [2528.8203, 2530.3101],\n",
       " [2543.4607, 2545.0004],\n",
       " [2555.6608, 2557.1903],\n",
       " [2568.4008, 2569.9007],\n",
       " [2582.001, 2583.5307],\n",
       " [2594.9613, 2596.551],\n",
       " [2606.9214, 2608.4413],\n",
       " [2620.1216, 2621.7413],\n",
       " [2631.4218, 2633.0115],\n",
       " [2645.182, 2646.7917],\n",
       " [2657.5823, 2659.1519],\n",
       " [2669.5825, 2671.1221],\n",
       " [2681.6627, 2683.1723],\n",
       " [2696.9928, 2698.5025],\n",
       " [2708.9432, 2710.4727],\n",
       " [2721.0631, 2722.5928],\n",
       " [2733.2433, 2734.7631],\n",
       " [2745.7037, 2747.2432],\n",
       " [2757.4038, 2758.9234],\n",
       " [2769.2538, 2770.7636],\n",
       " [2783.284, 2784.8438]]"
      ]
     },
     "execution_count": 23,
     "metadata": {},
     "output_type": "execute_result"
    }
   ],
   "source": [
    "shift_time"
   ]
  },
  {
   "cell_type": "code",
   "execution_count": 88,
   "metadata": {},
   "outputs": [
    {
     "data": {
      "text/plain": [
       "[[17.6607, 18.7004],\n",
       " [43.6011, 45.3009],\n",
       " [74.3419, 75.9614],\n",
       " [286.2554, 287.8552],\n",
       " [379.5671, 381.1768],\n",
       " [397.1476, 398.677],\n",
       " [411.0478, 412.6073],\n",
       " [421.708, 423.2175],\n",
       " [434.1082, 435.6479],\n",
       " [445.8083, 447.3379],\n",
       " [456.9385, 458.5283],\n",
       " [468.8487, 470.4483],\n",
       " [481.8889, 483.4385],\n",
       " [494.5092, 496.0288],\n",
       " [506.7493, 508.2792],\n",
       " [518.2896, 519.7592],\n",
       " [533.7898, 535.2795],\n",
       " [546.4701, 548.0196],\n",
       " [559.1502, 560.6599],\n",
       " [572.1305, 573.7401],\n",
       " [584.2107, 585.8102],\n",
       " [597.471, 599.0004],\n",
       " [610.831, 612.3508],\n",
       " [623.6913, 625.281],\n",
       " [637.1516, 638.6311],\n",
       " [664.2318, 665.7415],\n",
       " [676.9322, 678.5417],\n",
       " [690.5722, 692.092],\n",
       " [703.5124, 705.1221],\n",
       " [716.4528, 718.0724],\n",
       " [748.8332, 750.4629],\n",
       " [763.9335, 765.4632],\n",
       " [777.8937, 779.4235],\n",
       " [791.7139, 793.2537],\n",
       " [807.7343, 809.264],\n",
       " [822.6546, 824.1943],\n",
       " [837.7148, 839.2545],\n",
       " [853.155, 854.6947],\n",
       " [867.2751, 868.8047],\n",
       " [882.4955, 884.025],\n",
       " [895.1558, 896.7353],\n",
       " [908.7759, 910.2955],\n",
       " [922.9962, 924.5357],\n",
       " [957.6966, 959.2462],\n",
       " [972.0769, 973.6065],\n",
       " [984.5971, 986.1167],\n",
       " [997.5775, 999.1169],\n",
       " [1009.6776, 1011.2071],\n",
       " [1022.8977, 1024.4074],\n",
       " [1036.318, 1037.8578],\n",
       " [1049.4183, 1050.9379],\n",
       " [1066.7985, 1068.3281],\n",
       " [1082.2387, 1083.7585],\n",
       " [1096.129, 1097.7086],\n",
       " [1109.3592, 1110.869],\n",
       " [1120.7595, 1122.299],\n",
       " [1133.2598, 1134.7893],\n",
       " [1145.6197, 1147.1294],\n",
       " [1157.9201, 1159.4696],\n",
       " [1170.6602, 1172.1998],\n",
       " [1184.2203, 1185.7601],\n",
       " [1195.5806, 1197.1201],\n",
       " [1208.3807, 1209.9204],\n",
       " [1220.1609, 1221.7005],\n",
       " [1232.3411, 1233.8607],\n",
       " [1260.3814, 1261.9112],\n",
       " [1274.5017, 1276.0313],\n",
       " [1288.1619, 1289.6515],\n",
       " [1300.682, 1302.1918],\n",
       " [1312.9423, 1314.4621],\n",
       " [1326.3425, 1327.8622],\n",
       " [1340.5827, 1342.1025],\n",
       " [1354.2433, 1355.7526],\n",
       " [1368.1431, 1369.6527],\n",
       " [1380.3632, 1381.8731],\n",
       " [1395.1036, 1396.6133],\n",
       " [1409.4037, 1410.9334],\n",
       " [1423.4039, 1424.9036],\n",
       " [1437.0841, 1438.6138],\n",
       " [1451.4643, 1452.974],\n",
       " [1464.7245, 1466.2442],\n",
       " [1479.3847, 1480.9045],\n",
       " [1493.385, 1494.9047],\n",
       " [1506.3253, 1507.8449],\n",
       " [1519.6054, 1521.1251],\n",
       " [1534.4056, 1535.9253],\n",
       " [1558.486, 1560.0157],\n",
       " [1572.0262, 1573.546],\n",
       " [1585.9065, 1587.4262],\n",
       " [1601.2267, 1602.7365],\n",
       " [1614.3469, 1615.8466],\n",
       " [1628.7871, 1630.2967],\n",
       " [1645.0275, 1646.537],\n",
       " [1659.2876, 1660.8172],\n",
       " [1674.6477, 1676.1675],\n",
       " [1688.4881, 1690.0079],\n",
       " [1702.7084, 1704.228],\n",
       " [1715.2685, 1716.7782],\n",
       " [1726.3886, 1727.8984],\n",
       " [1739.6289, 1741.1286],\n",
       " [1753.629, 1755.1089],\n",
       " [1765.4693, 1766.9791],\n",
       " [1778.2695, 1779.8291],\n",
       " [1794.9498, 1795.4993],\n",
       " [1804.9099, 1806.4396],\n",
       " [1819.0101, 1820.5698],\n",
       " [1831.5102, 1833.0299],\n",
       " [1845.6105, 1847.1301],\n",
       " [2029.0532, 2030.5629],\n",
       " [2042.8534, 2044.373],\n",
       " [2056.2536, 2057.7233],\n",
       " [2067.3938, 2068.8134],\n",
       " [2078.0339, 2079.5034],\n",
       " [2089.7738, 2091.2037],\n",
       " [2104.8343, 2106.4838],\n",
       " [2119.3743, 2120.964],\n",
       " [2132.4645, 2134.0042],\n",
       " [2153.5748, 2155.1245],\n",
       " [2167.035, 2168.6047],\n",
       " [2180.6154, 2182.2449],\n",
       " [2191.9353, 2193.4551],\n",
       " [2205.4356, 2207.0153],\n",
       " [2225.8159, 2227.4257],\n",
       " [2246.4562, 2248.0859],\n",
       " [2264.8965, 2264.9761],\n",
       " [2274.6167, 2276.1763],\n",
       " [2285.9769, 2287.6365],\n",
       " [2300.5371, 2302.1767],\n",
       " [2325.6975, 2327.2272],\n",
       " [2339.8977, 2341.5173],\n",
       " [2511.7402, 2513.3298],\n",
       " [2528.8203, 2530.3101],\n",
       " [2543.4607, 2545.0004],\n",
       " [2555.6608, 2557.1903],\n",
       " [2568.4008, 2569.9007],\n",
       " [2582.001, 2583.5307],\n",
       " [2594.9613, 2596.551],\n",
       " [2606.9214, 2608.4413],\n",
       " [2620.1216, 2621.7413],\n",
       " [2631.4218, 2633.0115],\n",
       " [2645.182, 2646.7917],\n",
       " [2657.5823, 2659.1519],\n",
       " [2669.5825, 2671.1221],\n",
       " [2681.6627, 2683.1723],\n",
       " [2696.9928, 2698.5025],\n",
       " [2708.9432, 2710.4727],\n",
       " [2721.0631, 2722.5928],\n",
       " [2733.2433, 2734.7631],\n",
       " [2745.7037, 2747.2432],\n",
       " [2757.4038, 2758.9234],\n",
       " [2769.2538, 2770.7636],\n",
       " [2783.284, 2784.8438]]"
      ]
     },
     "execution_count": 88,
     "metadata": {},
     "output_type": "execute_result"
    }
   ],
   "source": [
    "shift_time"
   ]
  },
  {
   "cell_type": "code",
   "execution_count": 28,
   "metadata": {},
   "outputs": [],
   "source": [
    "df_ntu = input_mdf.get_group(signal_loc[\"NTU\"])"
   ]
  },
  {
   "cell_type": "code",
   "execution_count": 46,
   "metadata": {},
   "outputs": [],
   "source": [
    "df_engine_rpm = input_mdf.get_group(signal_loc[\"HEV_EngSpdVal\"])"
   ]
  },
  {
   "cell_type": "code",
   "execution_count": 53,
   "metadata": {},
   "outputs": [],
   "source": [
    "df_input_var = input_mdf.get_group(signal_loc[\"ntug_SyncFilt\"])"
   ]
  },
  {
   "cell_type": "code",
   "execution_count": 55,
   "metadata": {},
   "outputs": [
    {
     "data": {
      "text/plain": [
       "Index(['hdbt_SolAdp_4_[0]\\XCP:3', 'hdb3_pv\\XCP:3', 'fbr_strk\\XCP:3',\n",
       "       'esa_Phase\\XCP:3', 'hdbt_SolAdp_1_EV_[0]\\XCP:3',\n",
       "       'hdb_Adp_Sum_App\\XCP:3', 'hdbt_SolAdp_1_[0]\\XCP:3',\n",
       "       'htu_MomentCap\\XCP:3', 'ntug\\XCP:3', 'hdbt_SolAdp_2_EV_[0]\\XCP:3',\n",
       "       'NTU\\XCP:3', 'hsy_Gap_CurDest\\XCP:3', 'rsa_ChangeID\\XCP:3',\n",
       "       'MTU_Acor_Cmd\\XCP:3', 'hdr5s\\XCP:3', 'hdr4s\\XCP:3',\n",
       "       'zdbt_SolAdp_2_EV_[0]\\XCP:3', 'MTU_Acor\\XCP:3', 'hdb2_pv\\XCP:3',\n",
       "       'ntug_Sync\\XCP:3', 'hdb_Adp_Sum_Rel\\XCP:3', 'zdbt_SolAdp_3_[0]\\XCP:3',\n",
       "       'hdbt_SolAdp_2_[0]\\XCP:3', 'nsy_Cur\\XCP:3', 'hdb4_pv\\XCP:3',\n",
       "       'MTU\\XCP:3', 'zdbt_SolAdp_1_[0]\\XCP:3', 'mme_Inc_Out\\XCP:3',\n",
       "       'NMO\\XCP:3', 'hdb_Cal_Sum_App\\XCP:3', 'hdb_Cal_Sum_Rel\\XCP:3',\n",
       "       'hdbt_SolAdp_3_[0]\\XCP:3', 'NAB\\XCP:3', 'zdbt_SolAdp_1_EV_[0]\\XCP:3',\n",
       "       'HDK\\XCP:3', 'hdr1s\\XCP:3', 'nsy_Dest\\XCP:3', 'CGT\\XCP:3',\n",
       "       'zdbt_SolAdp_4_[0]\\XCP:3', 'FZGG_HADIFF_Calc\\XCP:3', 'hdr2s\\XCP:3',\n",
       "       'hdb1_pv\\XCP:3', 'zdbt_SolAdp_2_[0]\\XCP:3', 'FZGG_HADIFF\\XCP:3',\n",
       "       'mme_Inc_Down\\XCP:3', 'hdr3s\\XCP:3', 'ntug_SyncFilt\\XCP:3',\n",
       "       'MTU_pv\\XCP:3', 'DMEM_stFaultEntry_[1]\\XCP:3',\n",
       "       'DMEM_FaultEntry_[6]\\XCP:3', 'SKL_AktID\\XCP:3',\n",
       "       'DMEM_stFaultEntry_[11]\\XCP:3', 'DMEM_FaultEntry_[10]\\XCP:3',\n",
       "       'rsa_Art\\XCP:3', 'DMEM_stFaultEntry_[5]\\XCP:3',\n",
       "       'DMEM_stFaultEntry_[2]\\XCP:3', 'DMEM_stFaultEntry_[0]\\XCP:3',\n",
       "       'DMEM_FaultEntry_[1]\\XCP:3', 'DMEM_stFaultEntry_[7]\\XCP:3',\n",
       "       'DMEM_stFaultEntry_[14]\\XCP:3', 'DMEM_FaultEntry_[0]\\XCP:3',\n",
       "       'DMEM_stFaultEntry_[6]\\XCP:3', 'DMEM_stFaultEntry_[12]\\XCP:3',\n",
       "       'DMEM_FaultEntry_[4]\\XCP:3', 'DMEM_FaultEntry_[5]\\XCP:3',\n",
       "       'DMEM_stFaultEntry_[3]\\XCP:3', 'DMEM_FaultEntry_[12]\\XCP:3',\n",
       "       'DMEM_stFaultEntry_[13]\\XCP:3', 'DMEM_FaultEntry_[2]\\XCP:3',\n",
       "       'DMEM_stFaultEntry_[10]\\XCP:3', 'DMEM_FaultEntry_[8]\\XCP:3',\n",
       "       'SKL_map_id\\XCP:3', 'DMEM_FaultEntry_[13]\\XCP:3',\n",
       "       'DMEM_stFaultEntry_[4]\\XCP:3', 'DMEM_FaultEntry_[7]\\XCP:3',\n",
       "       'DMEM_FaultEntry_[3]\\XCP:3', 'DMEM_stFaultEntry_[8]\\XCP:3',\n",
       "       'DMEM_FaultEntry_[11]\\XCP:3', 'DMEM_FaultEntry_[14]\\XCP:3',\n",
       "       'DMEM_stFaultEntry_[9]\\XCP:3'],\n",
       "      dtype='object')"
      ]
     },
     "execution_count": 55,
     "metadata": {},
     "output_type": "execute_result"
    }
   ],
   "source": [
    "df_input_var.columns"
   ]
  },
  {
   "cell_type": "code",
   "execution_count": 44,
   "metadata": {},
   "outputs": [],
   "source": [
    "import matplotlib.pyplot as plt"
   ]
  },
  {
   "cell_type": "code",
   "execution_count": 81,
   "metadata": {},
   "outputs": [],
   "source": [
    "window = 1"
   ]
  },
  {
   "cell_type": "code",
   "execution_count": 82,
   "metadata": {},
   "outputs": [
    {
     "data": {
      "text/plain": [
       "[<matplotlib.lines.Line2D at 0x290df6fc088>]"
      ]
     },
     "execution_count": 82,
     "metadata": {},
     "output_type": "execute_result"
    },
    {
     "data": {
      "image/png": "[encoded data removed]",
      "text/plain": [
       "<Figure size 432x288 with 1 Axes>"
      ]
     },
     "metadata": {
      "needs_background": "light"
     },
     "output_type": "display_data"
    }
   ],
   "source": [
    "plt.plot(df_engine_rpm[\"HEV_EngSpdVal\\CAN-Monitoring:1\"].loc[(df_engine_rpm.index > shift_time[2][0]-window) & (df_engine_rpm.index < shift_time[2][1]+window)])"
   ]
  },
  {
   "cell_type": "code",
   "execution_count": 83,
   "metadata": {},
   "outputs": [
    {
     "data": {
      "text/plain": [
       "[<matplotlib.lines.Line2D at 0x290df82ab08>]"
      ]
     },
     "execution_count": 83,
     "metadata": {},
     "output_type": "execute_result"
    },
    {
     "data": {
      "image/png": "[encoded data removed]",
      "text/plain": [
       "<Figure size 432x288 with 1 Axes>"
      ]
     },
     "metadata": {
      "needs_background": "light"
     },
     "output_type": "display_data"
    }
   ],
   "source": [
    "plt.plot(df_ntu['NTU\\XCP:3'].loc[(df_ntu.index > shift_time[1][0]-window) & (df_ntu.index < shift_time[1][1]+window)])"
   ]
  },
  {
   "cell_type": "code",
   "execution_count": 91,
   "metadata": {},
   "outputs": [],
   "source": [
    "plt.style.use('dark_background')"
   ]
  },
  {
   "cell_type": "code",
   "execution_count": 96,
   "metadata": {},
   "outputs": [],
   "source": [
    "for i in range(len(shift_time)):\n",
    "    \n",
    "    plt.plot(df_input_var['ntug_SyncFilt\\XCP:3'].loc[(df_ntu.index > shift_time[i][0]-window) & (df_input_var.index < shift_time[i][1]+window)], \n",
    "             linewidth = 3, color='white')\n",
    "    plt.plot(df_ntu['NTU\\XCP:3'].loc[(df_ntu.index > shift_time[i][0]-window) & (df_ntu.index < shift_time[i][1]+window)], \n",
    "             linewidth = 3, color='white')\n",
    "    plt.plot(df_engine_rpm[\"HEV_EngSpdVal\\CAN-Monitoring:1\"].loc[(df_engine_rpm.index > shift_time[i][0]-window) & (df_engine_rpm.index < shift_time[i][1]+window)],\n",
    "            linewidth = 3, color='white')\n",
    "    \n",
    "    plt.axis(\"off\")\n",
    "    plt.savefig(\"savefig/{}.png\".format(i), bbox_inches=\"tight\")\n",
    "    plt.close()\n",
    "    "
   ]
  },
  {
   "cell_type": "code",
   "execution_count": null,
   "metadata": {},
   "outputs": [],
   "source": []
  }
 ],
 "metadata": {
  "kernelspec": {
   "display_name": "virtualdriver",
   "language": "python",
   "name": "virtualdriver"
  },
  "language_info": {
   "codemirror_mode": {
    "name": "ipython",
    "version": 3
   },
   "file_extension": ".py",
   "mimetype": "text/x-python",
   "name": "python",
   "nbconvert_exporter": "python",
   "pygments_lexer": "ipython3",
   "version": "3.7.7"
  }
 },
 "nbformat": 4,
 "nbformat_minor": 4
}
